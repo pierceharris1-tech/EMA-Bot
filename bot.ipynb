{
 "cells": [
  {
   "cell_type": "code",
   "execution_count": 1,
   "metadata": {},
   "outputs": [
    {
     "name": "stderr",
     "output_type": "stream",
     "text": [
      "/Library/Frameworks/Python.framework/Versions/3.13/lib/python3.13/site-packages/pandas_ta/__init__.py:7: UserWarning: pkg_resources is deprecated as an API. See https://setuptools.pypa.io/en/latest/pkg_resources.html. The pkg_resources package is slated for removal as early as 2025-11-30. Refrain from using this package or pin to Setuptools<81.\n",
      "  from pkg_resources import get_distribution, DistributionNotFound\n"
     ]
    }
   ],
   "source": [
    "import pandas as pd\n",
    "import numpy as np \n",
    "npNaN = np.nan\n",
    "import pandas_ta as ta\n",
    "import matplotlib.pyplot as plt\n",
    "import config\n",
    "from oandapyV20 import API\n",
    "import oandapyV20.endpoints.instruments as instruments\n",
    "import oandapyV20.endpoints.orders as orders\n",
    "from datetime import datetime, timezone\n",
    "import time "
   ]
  },
  {
   "cell_type": "code",
   "execution_count": null,
   "metadata": {},
   "outputs": [],
   "source": [
    "#setting up API connection \n",
    "client = API(access_token=config.OANDA_API_KEY, environment=config.ENVIRONMENT)\n"
   ]
  },
  {
   "cell_type": "code",
   "execution_count": null,
   "metadata": {},
   "outputs": [
    {
     "name": "stdout",
     "output_type": "stream",
     "text": [
      "<module 'time' (built-in)>\n"
     ]
    }
   ],
   "source": [
    "#defining timeframe and instrument \n",
    "timeframe = \"M1\"\n",
    "instrument = \"GBP_JPY\""
   ]
  },
  {
   "cell_type": "code",
   "execution_count": 4,
   "metadata": {},
   "outputs": [
    {
     "name": "stdout",
     "output_type": "stream",
     "text": [
      "                       time     open     high      low    close\n",
      "0 2025-08-21 00:32:00+00:00  198.385  198.392  198.371  198.386\n",
      "1 2025-08-21 00:33:00+00:00  198.387  198.394  198.374  198.383\n",
      "2 2025-08-21 00:34:00+00:00  198.385  198.404  198.384  198.399\n",
      "3 2025-08-21 00:35:00+00:00  198.397  198.405  198.372  198.378\n",
      "4 2025-08-21 00:36:00+00:00  198.378  198.391  198.361  198.370\n"
     ]
    }
   ],
   "source": [
    "#defining the parameters for the request/instrument \n",
    "#Trading bot will regularly request this data so we need to wrap it in a functiuon \n",
    "def get_candles(tf):\n",
    "    params = {\n",
    "    \"granularity\": tf,\n",
    "    \"price\": \"A\" # A for asking price\n",
    "}\n",
    "    r = instruments.InstrumentsCandles(instrument=instrument, params=params)\n",
    "#Because this is a dictionary, we can access the candles directly\n",
    "    candles = client.request(r)[\"candles\"]\n",
    "    candles\n",
    "\n",
    "#So now we're going to put it into a dataframe\n",
    "#Convert to pandas dataframe\n",
    "\n",
    "    data = []\n",
    "    for c in candles:\n",
    "        if c[\"complete\"]:\n",
    "            data.append({\n",
    "                \"time\": c[\"time\"],\n",
    "                \"open\": float(c[\"ask\"][\"o\"]),\n",
    "                \"high\": float(c[\"ask\"][\"h\"]),\n",
    "                \"low\": float(c[\"ask\"][\"l\"]),\n",
    "                \"close\": float(c[\"ask\"][\"c\"])\n",
    "         })\n",
    "    df = pd.DataFrame(data)\n",
    "    df[\"time\"] = pd.to_datetime(df[\"time\"])\n",
    "    return df\n",
    "print(get_candles(timeframe).head())\n",
    "\n",
    "\n"
   ]
  },
  {
   "cell_type": "code",
   "execution_count": null,
   "metadata": {},
   "outputs": [],
   "source": []
  },
  {
   "cell_type": "code",
   "execution_count": 5,
   "metadata": {},
   "outputs": [],
   "source": [
    "#Function to calculate indicators\n",
    "def calculate_indicators(df):\n",
    "    #EMA\n",
    "    df[\"EMA_7\"] = ta.ema(df[\"close\"], length=7)\n",
    "    df[\"EMA_14\"] = ta.ema(df[\"close\"], length=14)\n",
    "\n",
    "    #ATR\n",
    "    df[\"ATR_14\"] = ta.atr(df[\"high\"], df[\"low\"], df[\"close\"], length = 14)\n",
    "\n",
    "    return df"
   ]
  },
  {
   "cell_type": "code",
   "execution_count": 6,
   "metadata": {},
   "outputs": [],
   "source": [
    "#Function to place order \n",
    "def place_sell_order(stop_loss, take_profit):\n",
    "    data = {\n",
    "           \"order\":{ \n",
    "            \"instrument\": instrument, \n",
    "            \"units\": -5000,  # Number of units to trade\n",
    "            \"type\": \"MARKET\",\n",
    "            \"stopLossOnFill\": {\"price\": f\"{stop_loss:.3f}\"}, #.3f formats the float to 3 decimal places which is how many OANDA uses for GBP/JPY\n",
    "            \"takeProfitOnFill\": {\"price\": f\"{take_profit:.3f}\"}}\n",
    "           }\n",
    "    r = orders.OrderCreate(config.OANDA_ACCOUNT_ID, data=data)\n",
    "    client.request(r)\n",
    "    print(f\"Placed  sell order for {instrument} with stop loss at {round(stop_loss, 3)} and take profit at {round(take_profit, 3)}\")\n",
    "\n",
    "def place_buy_order(stop_loss, take_profit):\n",
    "    data = {\n",
    "           \"order\":{ \n",
    "            \"instrument\": instrument, \n",
    "            \"units\": 5000,  # Number of units to trade\n",
    "            \"type\": \"MARKET\",\n",
    "            \"stopLossOnFill\": {\"price\": f\"{stop_loss:.3f}\"}, #.3f formats the float to 3 decimal places which is how many OANDA uses for GBP/JPY\n",
    "            \"takeProfitOnFill\": {\"price\": f\"{take_profit:.3f}\"}}\n",
    "           }\n",
    "    r = orders.OrderCreate(config.OANDA_ACCOUNT_ID, data=data)\n",
    "    client.request(r)\n",
    "    print(f\"Placed buy order for {instrument} with stop loss at {round(stop_loss, 3)} and take profit at {round(take_profit, 3)}\")\n",
    "    #Use the as a visual confirmation that the order was placed, can check with calling the function: \"Place_order(190, 200)\"\n",
    " \n"
   ]
  },
  {
   "cell_type": "code",
   "execution_count": 7,
   "metadata": {},
   "outputs": [],
   "source": [
    "#Function to check for EMA crossovers\n",
    "#we need to check if the 8 EMA if above or below the previous 5 EMA to dectect a crossover\n",
    "#So we need to fetch both of these candles from the dateframe\n",
    "def ema_crossover(df):\n",
    "    #whatever my stop loss is, my tp will be 1.5 times that\n",
    "    tp_ratio = 1.5\n",
    "    atr_multiplier = 1.5  # ATR multiplier for stop loss calculation\n",
    "    #check if the 5EMA crosses above the 8EMA \n",
    "    last_candle = df.iloc[-1]\n",
    "    previous_candle = df.iloc[-2]\n",
    "    #Crossover buy signal (EMA 5 crosses above EMA 8)\n",
    "    if last_candle['EMA_7'] > last_candle['EMA_14'] and previous_candle['EMA_7'] < previous_candle['EMA_14']:\n",
    "        print(\"Buy signal: EMA 7 crossed above EMA 14\")\n",
    "        #where will SL and Tp be? well since its bassed on the last candle we can use that \n",
    "        entry_price = last_candle['close']\n",
    "        stop_loss = ((entry_price + last_candle['ATR_14']) * atr_multiplier) \n",
    "        stop_loss_distance = entry_price - stop_loss\n",
    "        take_profit = entry_price + (stop_loss_distance * tp_ratio)\n",
    "        place_buy_order(stop_loss, take_profit)\n",
    "    elif last_candle['EMA_7'] < last_candle['EMA_14'] and previous_candle['EMA_7'] > previous_candle['EMA_14']:\n",
    "        print(\"Sell signal: EMA 7 crossed below EMA 14\")\n",
    "        entry_price = last_candle['close']\n",
    "        stop_loss = ((entry_price + last_candle['ATR_14']) * atr_multiplier)\n",
    "        stop_loss_distance = stop_loss - entry_price\n",
    "        take_profit = entry_price - (stop_loss_distance * tp_ratio)\n",
    "        place_sell_order(stop_loss, take_profit)\n",
    "    else:\n",
    "        print(\"Stratergy conditions not met\")\n"
   ]
  },
  {
   "cell_type": "code",
   "execution_count": 8,
   "metadata": {},
   "outputs": [],
   "source": [
    "\n",
    "\n",
    "#So we have a trading bot that is connected to the OANDA API and can get the price of GBP/JPY in 15 minute intervals"
   ]
  },
  {
   "cell_type": "code",
   "execution_count": null,
   "metadata": {},
   "outputs": [
    {
     "name": "stdout",
     "output_type": "stream",
     "text": [
      "starting trading bot\n",
      "Current time: 2025-08-21 08:52:00.545508+00:00\n",
      "checking for new signlas\n",
      "Stratergy conditions not met\n"
     ]
    }
   ],
   "source": [
    "#Create a place to combine all of this functionality into a central place for the trading bot\n",
    "def run_bot():\n",
    "    print(\"starting trading bot\")\n",
    "    last_checked = None\n",
    "    #get the same data but its much easier to access it\n",
    "    while True:\n",
    "        current_time = datetime.now(timezone.utc)\n",
    "        #check for a new candle every 15 minutes\n",
    "        #if current_time.minute % 15 == 0 and current_time.second < 10: \n",
    "        if current_time.minute % 1 == 0 and current_time.second < 10:\n",
    "            #check if the 15-min nterval has changed since the last check\n",
    "            #make sure we arent checking the same candle multiple times\n",
    "            if last_checked != current_time.minute:\n",
    "                print(f\"Current time: {current_time}\")\n",
    "                print(\"checking for new signlas\")\n",
    "                price = get_candles(timeframe)\n",
    "                price = calculate_indicators(price)\n",
    "                ema_crossover(price)\n",
    "                last_checked = current_time.minute #update to prevent re-triggering \n",
    "        time.sleep(1)\n",
    "run_bot()\n",
    "#check if the order placing works\n",
    "#place_order(195, 205)"
   ]
  },
  {
   "cell_type": "code",
   "execution_count": null,
   "metadata": {},
   "outputs": [],
   "source": [
    "#Now we need to get a stratergy by setting up some indicators "
   ]
  },
  {
   "cell_type": "code",
   "execution_count": null,
   "metadata": {},
   "outputs": [],
   "source": [
    "#Plots the graph \n",
    "plt.plot(df['close'])\n",
    "plt.show()"
   ]
  },
  {
   "cell_type": "markdown",
   "metadata": {},
   "source": []
  },
  {
   "cell_type": "markdown",
   "metadata": {},
   "source": []
  },
  {
   "cell_type": "markdown",
   "metadata": {},
   "source": []
  }
 ],
 "metadata": {
  "kernelspec": {
   "display_name": "Python 3",
   "language": "python",
   "name": "python3"
  },
  "language_info": {
   "codemirror_mode": {
    "name": "ipython",
    "version": 3
   },
   "file_extension": ".py",
   "mimetype": "text/x-python",
   "name": "python",
   "nbconvert_exporter": "python",
   "pygments_lexer": "ipython3",
   "version": "3.13.6"
  }
 },
 "nbformat": 4,
 "nbformat_minor": 2
}
